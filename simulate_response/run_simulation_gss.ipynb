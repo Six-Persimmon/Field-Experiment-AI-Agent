{
 "cells": [
  {
   "cell_type": "code",
   "execution_count": 5,
   "id": "39033954",
   "metadata": {},
   "outputs": [
    {
     "name": "stdout",
     "output_type": "stream",
     "text": [
      "You are a $age-year-old $gender identifying as $race. Please answer the following survey question. Please answer the questions by returning ONLY the corresponding number of your choice. Your answer should be purely a number.\n"
     ]
    },
    {
     "data": {
      "text/html": [
       "<div>\n",
       "<style scoped>\n",
       "    .dataframe tbody tr th:only-of-type {\n",
       "        vertical-align: middle;\n",
       "    }\n",
       "\n",
       "    .dataframe tbody tr th {\n",
       "        vertical-align: top;\n",
       "    }\n",
       "\n",
       "    .dataframe thead th {\n",
       "        text-align: right;\n",
       "    }\n",
       "</style>\n",
       "<table border=\"1\" class=\"dataframe\">\n",
       "  <thead>\n",
       "    <tr style=\"text-align: right;\">\n",
       "      <th></th>\n",
       "      <th>Variable_Name</th>\n",
       "      <th>Average_Human_Response</th>\n",
       "      <th>Question</th>\n",
       "    </tr>\n",
       "  </thead>\n",
       "  <tbody>\n",
       "    <tr>\n",
       "      <th>0</th>\n",
       "      <td>polviews</td>\n",
       "      <td>4.086482</td>\n",
       "      <td>We hear a lot of talk these days about liberal...</td>\n",
       "    </tr>\n",
       "    <tr>\n",
       "      <th>1</th>\n",
       "      <td>natsoc</td>\n",
       "      <td>1.477330</td>\n",
       "      <td>We are faced with many problems in this countr...</td>\n",
       "    </tr>\n",
       "    <tr>\n",
       "      <th>2</th>\n",
       "      <td>natchld</td>\n",
       "      <td>1.496186</td>\n",
       "      <td>We are faced with many problems in this countr...</td>\n",
       "    </tr>\n",
       "    <tr>\n",
       "      <th>3</th>\n",
       "      <td>natsci</td>\n",
       "      <td>1.688086</td>\n",
       "      <td>We are faced with many problems in this countr...</td>\n",
       "    </tr>\n",
       "    <tr>\n",
       "      <th>4</th>\n",
       "      <td>equal4</td>\n",
       "      <td>2.345886</td>\n",
       "      <td>It is the responsibility of government to meet...</td>\n",
       "    </tr>\n",
       "  </tbody>\n",
       "</table>\n",
       "</div>"
      ],
      "text/plain": [
       "  Variable_Name  Average_Human_Response  \\\n",
       "0      polviews                4.086482   \n",
       "1        natsoc                1.477330   \n",
       "2       natchld                1.496186   \n",
       "3        natsci                1.688086   \n",
       "4        equal4                2.345886   \n",
       "\n",
       "                                            Question  \n",
       "0  We hear a lot of talk these days about liberal...  \n",
       "1  We are faced with many problems in this countr...  \n",
       "2  We are faced with many problems in this countr...  \n",
       "3  We are faced with many problems in this countr...  \n",
       "4  It is the responsibility of government to meet...  "
      ]
     },
     "execution_count": 5,
     "metadata": {},
     "output_type": "execute_result"
    }
   ],
   "source": [
    "#!/usr/bin/env python\n",
    "# -*-coding:utf-8 -*-\n",
    "'''\n",
    "@File    :   run_simulation_gss.py\n",
    "@Time    :   2025/06/08 21:41:40\n",
    "@Author  :   Shijian Liu\n",
    "@Version :   1.0\n",
    "@Contact :   lshijian405@gmail.com\n",
    "@Desc    :   This script runs a simulation for survey responses on the GSS (General Social Survey) data using a predefined participant pool and survey context.\n",
    "'''\n",
    "from simulate_response import run_all_survey_responses_str\n",
    "from llm_openai import openai_llm\n",
    "import pandas as pd\n",
    "\n",
    "# response template\n",
    "with open(\"survey_response_template_gss.txt\", \"r\") as f:\n",
    "    survey_template = f.read()\n",
    "print(survey_template)\n",
    "\n",
    "# survey questions dataframe. Columns: Variable_Name, Average_Human_Response, Question\n",
    "df_gss = pd.read_csv(\"shijian_survey_data_1.csv\")\n",
    "df_gss.head()"
   ]
  },
  {
   "cell_type": "code",
   "execution_count": null,
   "id": "48658139",
   "metadata": {},
   "outputs": [
    {
     "name": "stderr",
     "output_type": "stream",
     "text": [
      "100%|██████████| 6/6 [00:07<00:00,  1.22s/it] 0/3 [00:00<?, ?it/s]\n",
      "Simulating survey responses:  33%|███▎      | 1/3 [00:07<00:14,  7.34s/it]"
     ]
    },
    {
     "name": "stdout",
     "output_type": "stream",
     "text": [
      "                          ParticipantID  Age  Gender        Race  \\\n",
      "0  f9e9d992-9c8b-47b2-832a-ba8edb55d810   62  Female  Indigenous   \n",
      "1  b7163744-b2b5-4a45-b333-88c6cd63146c   24    Male       White   \n",
      "2  ee64c9a6-f560-41f8-b823-275cf3131668   53  Female       Asian   \n",
      "3  c4c897b3-7658-4103-b88b-34425ccb8521   28  Female       Asian   \n",
      "4  21b3f469-22a2-445e-bdb6-fc576f3e9232   31    Male       Asian   \n",
      "\n",
      "                         Response  \n",
      "0  4-Moderate, middle of the road  \n",
      "1  4-Moderate, middle of the road  \n",
      "2  4-Moderate, middle of the road  \n",
      "3  4-Moderate, middle of the road  \n",
      "4                               4  \n"
     ]
    },
    {
     "name": "stderr",
     "output_type": "stream",
     "text": [
      "100%|██████████| 6/6 [00:02<00:00,  2.93it/s]\n",
      "Simulating survey responses:  67%|██████▋   | 2/3 [00:09<00:04,  4.23s/it]"
     ]
    },
    {
     "name": "stdout",
     "output_type": "stream",
     "text": [
      "                          ParticipantID  Age  Gender        Race  \\\n",
      "0  f9e9d992-9c8b-47b2-832a-ba8edb55d810   62  Female  Indigenous   \n",
      "1  b7163744-b2b5-4a45-b333-88c6cd63146c   24    Male       White   \n",
      "2  ee64c9a6-f560-41f8-b823-275cf3131668   53  Female       Asian   \n",
      "3  c4c897b3-7658-4103-b88b-34425ccb8521   28  Female       Asian   \n",
      "4  21b3f469-22a2-445e-bdb6-fc576f3e9232   31    Male       Asian   \n",
      "\n",
      "         Response  \n",
      "0  2- ABOUT RIGHT  \n",
      "1  2- ABOUT RIGHT  \n",
      "2  2- ABOUT RIGHT  \n",
      "3  2- ABOUT RIGHT  \n",
      "4               2  \n"
     ]
    },
    {
     "name": "stderr",
     "output_type": "stream",
     "text": [
      "100%|██████████| 6/6 [00:02<00:00,  2.89it/s]\n",
      "Simulating survey responses: 100%|██████████| 3/3 [00:11<00:00,  3.83s/it]"
     ]
    },
    {
     "name": "stdout",
     "output_type": "stream",
     "text": [
      "                          ParticipantID  Age  Gender        Race  \\\n",
      "0  f9e9d992-9c8b-47b2-832a-ba8edb55d810   62  Female  Indigenous   \n",
      "1  b7163744-b2b5-4a45-b333-88c6cd63146c   24    Male       White   \n",
      "2  ee64c9a6-f560-41f8-b823-275cf3131668   53  Female       Asian   \n",
      "3  c4c897b3-7658-4103-b88b-34425ccb8521   28  Female       Asian   \n",
      "4  21b3f469-22a2-445e-bdb6-fc576f3e9232   31    Male       Asian   \n",
      "\n",
      "         Response  \n",
      "0  2- ABOUT RIGHT  \n",
      "1     3- TOO MUCH  \n",
      "2   1- TOO LITTLE  \n",
      "3   1- TOO LITTLE  \n",
      "4  2- ABOUT RIGHT  \n",
      "Saved GSS with LLM average responses to gss_with_llm_responses.csv\n"
     ]
    },
    {
     "name": "stderr",
     "output_type": "stream",
     "text": [
      "\n"
     ]
    }
   ],
   "source": [
    "from tqdm import tqdm\n",
    "import re\n",
    "\n",
    "# For test only:\n",
    "# df_gss = df_gss.head(3)\n",
    "# Run the simulation for each survey question in the GSS dataset. Keep average of LLM responses.\n",
    "average_llm_responses = []\n",
    "\n",
    "for idx, row in tqdm(df_gss.iterrows(), total=len(df_gss), desc=\"Simulating survey responses\"):\n",
    "    survey_str = row['Question']\n",
    "    responses_df = run_all_survey_responses_str(\n",
    "        llm=openai_llm,\n",
    "        participant_csv_path=\"participant_pool.csv\",\n",
    "        survey_prompt_template=survey_template,\n",
    "        survey_str=survey_str\n",
    "    )\n",
    "    # print(responses_df.head())  # Print the first few rows of the responses DataFrame for debugging\n",
    "    # Convert responses to numeric if needed int(re.search(r'^\\s*(\\d+)', r).group(1))\n",
    "    responses_df['choice_number'] = responses_df['Response'].apply(\n",
    "        lambda x: re.search(r'^\\s*(\\d+)', x).group(1) if isinstance(x, str) and re.search(r'^\\s*(\\d+)', x) else None\n",
    "    )\n",
    "    responses_numeric = pd.to_numeric(responses_df['choice_number'], errors='coerce')\n",
    "    avg_response = responses_numeric.mean()\n",
    "    average_llm_responses.append(avg_response)\n",
    "    # Optionally, save each responses_df if you want:\n",
    "    # responses_df.to_csv(f\"simulated_responses_{row['Variable_Name']}.csv\", index=False)\n",
    "\n",
    "df_gss['Average_LLM_Response'] = average_llm_responses\n",
    "df_gss.to_csv(\"gss_with_llm_responses.csv\", index=False)\n",
    "print(\"Saved GSS with LLM average responses to gss_with_llm_responses.csv\")\n"
   ]
  },
  {
   "cell_type": "code",
   "execution_count": null,
   "id": "c7c52f16",
   "metadata": {},
   "outputs": [],
   "source": []
  }
 ],
 "metadata": {
  "kernelspec": {
   "display_name": "crewai_agent",
   "language": "python",
   "name": "python3"
  },
  "language_info": {
   "codemirror_mode": {
    "name": "ipython",
    "version": 3
   },
   "file_extension": ".py",
   "mimetype": "text/x-python",
   "name": "python",
   "nbconvert_exporter": "python",
   "pygments_lexer": "ipython3",
   "version": "3.12.9"
  }
 },
 "nbformat": 4,
 "nbformat_minor": 5
}
