{
 "cells": [
  {
   "cell_type": "markdown",
   "id": "e744665e-7420-433f-8463-a674b66492d5",
   "metadata": {},
   "source": [
    "# Survey Deployment & Collection Agents"
   ]
  },
  {
   "cell_type": "markdown",
   "id": "790ff40f-0146-47f9-84db-36997a267b8d",
   "metadata": {},
   "source": [
    "## Initial Imports"
   ]
  },
  {
   "cell_type": "code",
   "execution_count": 3,
   "id": "0e3c15b4-6886-4c22-a2a6-36005a50c035",
   "metadata": {},
   "outputs": [],
   "source": [
    "import warnings\n",
    "warnings.filterwarnings('ignore')\n",
    "\n",
    "import os\n",
    "import requests\n",
    "import yaml\n",
    "\n",
    "from crewai import Agent, Task, Crew\n",
    "from crewai.tools import BaseTool\n",
    "\n",
    "# Directly set environment variables (no .env)\n",
    "os.environ['OPENAI_API_KEY'] = \n",
    "os.environ['OPENAI_MODEL_NAME'] = 'gpt-4o-mini'\n",
    "os.environ['SURVEY_API_KEY']    = \n",
    "os.environ['SURVEY_API_URL']    = 'https://api.typeform.com'\n"
   ]
  },
  {
   "cell_type": "code",
   "execution_count": 4,
   "id": "4b871be8-dc36-48d7-a2f5-0ebd40dd3371",
   "metadata": {},
   "outputs": [],
   "source": [
    "from pydantic import BaseModel, Field\n",
    "\n",
    "class PublishSurveyInput(BaseModel):\n",
    "    survey_definition: dict = Field(\n",
    "        ..., description=\"Typeform 表单定义 JSON\"\n",
    "    )\n",
    "\n",
    "class FetchSurveyInput(BaseModel):\n",
    "    survey_id: str = Field(\n",
    "        ..., description=\"要获取的表单 ID\"\n",
    "    )\n",
    "\n",
    "import os, requests\n",
    "from crewai.tools import BaseTool\n",
    "from typing import Type\n",
    "\n",
    "class PublishSurveyTool(BaseTool):\n",
    "    name: str = \"publish_survey\"\n",
    "    description: str = \"Publish a new survey via Typeform API\"\n",
    "    args_schema: Type[PublishSurveyInput] = PublishSurveyInput\n",
    "\n",
    "    def _run(self, survey_definition: dict) -> dict:\n",
    "        headers = {\n",
    "            'Authorization': f\"Bearer {os.environ['SURVEY_API_KEY']}\",\n",
    "            'Content-Type': 'application/json'\n",
    "        }\n",
    "        resp = requests.post(\n",
    "            f\"{os.environ['SURVEY_API_URL']}/forms\",\n",
    "            headers=headers,\n",
    "            json=survey_definition\n",
    "        )\n",
    "        resp.raise_for_status()\n",
    "        return resp.json()\n",
    "\n",
    "\n",
    "class FetchSurveyTool(BaseTool):\n",
    "    name: str = \"fetch_survey\"\n",
    "    description: str = \"Fetch survey metadata and all responses\"\n",
    "    args_schema: Type[FetchSurveyInput] = FetchSurveyInput\n",
    "\n",
    "    def _run(self, survey_id: str) -> dict:\n",
    "        headers = {'Authorization': f\"Bearer {os.environ['SURVEY_API_KEY']}\"}\n",
    "        meta = requests.get(\n",
    "            f\"{os.environ['SURVEY_API_URL']}/forms/{survey_id}\",\n",
    "            headers=headers\n",
    "        )\n",
    "        meta.raise_for_status()\n",
    "        resp = requests.get(\n",
    "            f\"{os.environ['SURVEY_API_URL']}/forms/{survey_id}/responses\",\n",
    "            headers=headers\n",
    "        )\n",
    "        resp.raise_for_status()\n",
    "        return {'survey': meta.json(), 'responses': resp.json()}\n",
    "\n"
   ]
  },
  {
   "cell_type": "code",
   "execution_count": 5,
   "id": "798786fc-09b8-43e6-9ec8-24da21a76079",
   "metadata": {},
   "outputs": [],
   "source": [
    "with open(\"config/agents/deploy_survey_agent.yaml\") as f:\n",
    "    deploy_cfg = yaml.safe_load(f)[\"deploy_survey_agent\"]\n",
    "with open(\"config/agents/collect_survey_agent.yaml\") as f:\n",
    "    collect_cfg = yaml.safe_load(f)[\"collect_survey_agent\"]\n",
    "with open(\"config/tasks/post_survey_task.yaml\") as f:\n",
    "    post_cfg = yaml.safe_load(f)[\"post_survey\"]\n",
    "with open(\"config/tasks/get_survey_task.yaml\") as f:\n",
    "    get_cfg = yaml.safe_load(f)[\"get_survey\"]"
   ]
  },
  {
   "cell_type": "code",
   "execution_count": 10,
   "id": "a80c82df-aefd-498f-90aa-a3f29db1aec0",
   "metadata": {},
   "outputs": [
    {
     "name": "stdout",
     "output_type": "stream",
     "text": [
      "Using Tool: publish_survey\n",
      "Direct publish output:\n",
      "{'id': 'fJnSqdOU', 'type': 'quiz', 'title': 'Customer Satisfaction Survey', 'workspace': {'href': 'https://api.typeform.com/workspaces/Psh3Cz'}, 'theme': {'href': 'https://api.typeform.com/themes/qHWOQ7'}, 'settings': {'language': 'en', 'progress_bar': 'proportion', 'meta': {'allow_indexing': False}, 'hide_navigation': False, 'is_public': True, 'is_trial': False, 'show_progress_bar': True, 'show_typeform_branding': True, 'are_uploads_public': False, 'show_time_to_complete': True, 'show_number_of_submissions': False, 'show_cookie_consent': False, 'show_question_number': True, 'show_key_hint_on_choices': True, 'autosave_progress': True, 'free_form_navigation': False, 'use_lead_qualification': False, 'pro_subdomain_enabled': False, 'auto_translate': True, 'partial_responses_to_all_integrations': False}, 'thankyou_screens': [{'id': 'DefaultTyScreen', 'ref': 'default_tys', 'title': \"Thanks for completing this typeform\\nNow *create your own* — it's free, easy, & beautiful\", 'type': 'thankyou_screen', 'properties': {'show_button': True, 'share_icons': False, 'button_mode': 'default_redirect', 'button_text': 'Create a *typeform*'}, 'attachment': {'type': 'image', 'href': 'https://images.typeform.com/images/2dpnUBBkz2VN'}}], 'fields': [{'id': 'TTowXoGzjljy', 'title': 'How satisfied are you with our service?', 'ref': '01JT14N3SDJ264S9WXAA5N53CD', 'properties': {'randomize': False, 'allow_multiple_selection': False, 'allow_other_choice': False, 'vertical_alignment': True, 'choices': [{'id': '3KT7GMA6EJqX', 'ref': '01JT14N3SDZM6R50507ZVPRJ9A', 'label': 'Very Satisfied'}, {'id': 'vURShRZpJ8Wg', 'ref': '01JT14N3SDTMEH03F027WEYT3T', 'label': 'Satisfied'}, {'id': 'w3GriJLY3E7p', 'ref': '01JT14N3SDVTZNKZKWCST59B9R', 'label': 'Neutral'}, {'id': 'ZhD7WwUBZT0t', 'ref': '01JT14N3SD78X9QN5RAGS65NHE', 'label': 'Dissatisfied'}]}, 'validations': {'required': False}, 'type': 'multiple_choice'}], '_links': {'display': 'https://form.typeform.com/to/fJnSqdOU', 'responses': 'https://api.typeform.com/forms/fJnSqdOU/responses'}}\n",
      "Published form_id = fJnSqdOU\n"
     ]
    }
   ],
   "source": [
    "publish_tool = PublishSurveyTool()\n",
    "fetch_tool   = FetchSurveyTool()\n",
    "deploy_agent  = Agent(config=deploy_cfg, tools=[publish_tool])\n",
    "collect_agent = Agent(config=collect_cfg, tools=[fetch_tool])\n",
    "post_task = Task(config=post_cfg, agent=deploy_agent, run=publish_tool.run)\n",
    "get_task  = Task(config=get_cfg,  agent=collect_agent, run=fetch_tool.run)\n",
    "\n",
    "\n",
    "#示例 survey 定义\n",
    "survey_definition = {\n",
    "    \"title\": \"Customer Satisfaction Survey\",\n",
    "    \"fields\": [\n",
    "        {\n",
    "            \"title\": \"How satisfied are you with our service?\",\n",
    "            \"type\": \"multiple_choice\",\n",
    "            \"properties\": {\n",
    "                \"choices\": [\n",
    "                    {\"label\": \"Very Satisfied\"},\n",
    "                    {\"label\": \"Satisfied\"},\n",
    "                    {\"label\": \"Neutral\"},\n",
    "                    {\"label\": \"Dissatisfied\"}\n",
    "                ]\n",
    "            }\n",
    "        }\n",
    "    ]\n",
    "}\n",
    "\n",
    "\n",
    "direct_pub = publish_tool.run(survey_definition)\n",
    "print(\"Direct publish output:\")\n",
    "print(direct_pub)\n",
    "\n",
    "form_id = direct_pub[\"id\"]\n",
    "print(\"Published form_id =\", form_id)"
   ]
  },
  {
   "cell_type": "code",
   "execution_count": 14,
   "id": "6bb3094e-d65f-48a5-a13a-9025488db81d",
   "metadata": {},
   "outputs": [
    {
     "name": "stdout",
     "output_type": "stream",
     "text": [
      "Using Tool: fetch_survey\n",
      "Direct fetch output:\n"
     ]
    },
    {
     "data": {
      "text/plain": [
       "[{'landing_id': 'q82fnsrq1qfgvnel44q82fnsr9u61pxk',\n",
       "  'token': 'q82fnsrq1qfgvnel44q82fnsr9u61pxk',\n",
       "  'response_id': 'q82fnsrq1qfgvnel44q82fnsr9u61pxk',\n",
       "  'response_type': 'completed',\n",
       "  'landed_at': '2025-04-29T16:04:53Z',\n",
       "  'submitted_at': '2025-04-29T16:04:53Z',\n",
       "  'metadata': {'user_agent': 'Mozilla/5.0 (Macintosh; Intel Mac OS X 10_15_7) AppleWebKit/537.36 (KHTML, like Gecko) Chrome/135.0.0.0 Safari/537.36',\n",
       "   'platform': 'other',\n",
       "   'referer': 'https://form.typeform.com/to/fJnSqdOU',\n",
       "   'network_id': '2018d24b75',\n",
       "   'browser': 'default'},\n",
       "  'hidden': {},\n",
       "  'calculated': {'score': 0},\n",
       "  'answers': [{'field': {'id': 'TTowXoGzjljy',\n",
       "     'type': 'multiple_choice',\n",
       "     'ref': '01JT14N3SDJ264S9WXAA5N53CD'},\n",
       "    'type': 'choice',\n",
       "    'choice': {'id': '3KT7GMA6EJqX',\n",
       "     'ref': '01JT14N3SDZM6R50507ZVPRJ9A',\n",
       "     'label': 'Very Satisfied'}}],\n",
       "  'thankyou_screen_ref': 'default_tys'}]"
      ]
     },
     "execution_count": 14,
     "metadata": {},
     "output_type": "execute_result"
    }
   ],
   "source": [
    "direct_fetch = fetch_tool.run(form_id)\n",
    "print(\"Direct fetch output:\")\n",
    "# direct_fetch\n",
    "direct_fetch['responses']['items']"
   ]
  },
  {
   "cell_type": "code",
   "execution_count": null,
   "id": "7cbd1c01-ecc2-4dc4-b845-847c610bc7a3",
   "metadata": {},
   "outputs": [],
   "source": [
    "# attmept achiving this with agents\n",
    "\n",
    "# publish_tool = PublishSurveyTool()\n",
    "# fetch_tool   = FetchSurveyTool()\n",
    "\n",
    "# deploy_agent  = Agent(config=deploy_cfg,  tools=[publish_tool])\n",
    "# collect_agent = Agent(config=collect_cfg, tools=[fetch_tool])\n",
    "\n",
    "# post_task = Task(\n",
    "#     config=post_cfg,\n",
    "#     agent=deploy_agent,\n",
    "#     run=publish_tool.run\n",
    "# )\n",
    "# get_task = Task(\n",
    "#     config=get_cfg,\n",
    "#     agent=collect_agent,\n",
    "#     run=fetch_tool.run\n",
    "# )\n",
    "\n",
    "# if __name__ == \"__main__\":\n",
    "#     crew = Crew(\n",
    "#         agents=[deploy_agent, collect_agent],\n",
    "#         tasks =[post_task, get_task],\n",
    "#         verbose=True\n",
    "#     )\n",
    "\n",
    "#     survey_definition = {\n",
    "#         \"title\": \"Customer Satisfaction Survey\",\n",
    "#         \"fields\": [\n",
    "#             {\n",
    "#                 \"title\": \"How satisfied are you with our service?\",\n",
    "#                 \"type\": \"multiple_choice\",\n",
    "#                 \"properties\": {\n",
    "#                     \"choices\": [\n",
    "#                         {\"label\": \"Very Satisfied\"},\n",
    "#                         {\"label\": \"Satisfied\"},\n",
    "#                         {\"label\": \"Neutral\"},\n",
    "#                         {\"label\": \"Dissatisfied\"}\n",
    "#                     ]\n",
    "#                 }\n",
    "#             }\n",
    "#         ]\n",
    "#     }\n",
    "\n",
    "#     direct_pub = publish_tool.run(survey_definition)\n",
    "#     print(\"Direct publish output:\", direct_pub)\n",
    "#     fid = direct_pub[\"id\"]\n",
    "#     direct_fetch = fetch_tool.run(fid)\n",
    "#     print(\"Direct fetch output:\", direct_fetch)\n",
    "\n",
    "#     # print(\"\\n=== Using Crew.kickoff ===\")\n",
    "#     # deploy_out  = crew.kickoff(inputs={\"survey_definition\": survey_definition})\n",
    "#     # print(\"Crew deployed:\", deploy_out)\n",
    "#     # fid = deploy_out[\"id\"]\n",
    "#     # collect_out = crew.kickoff(inputs={\"survey_id\": fid})\n",
    "#     # print(\"Crew collected:\", collect_out)\n"
   ]
  },
  {
   "cell_type": "code",
   "execution_count": null,
   "id": "a63f7272-289d-4ad3-9446-c5cb2f38516e",
   "metadata": {},
   "outputs": [],
   "source": []
  }
 ],
 "metadata": {
  "kernelspec": {
   "display_name": "Python [conda env:base] *",
   "language": "python",
   "name": "conda-base-py"
  },
  "language_info": {
   "codemirror_mode": {
    "name": "ipython",
    "version": 3
   },
   "file_extension": ".py",
   "mimetype": "text/x-python",
   "name": "python",
   "nbconvert_exporter": "python",
   "pygments_lexer": "ipython3",
   "version": "3.12.7"
  }
 },
 "nbformat": 4,
 "nbformat_minor": 5
}
