{
 "cells": [
  {
   "cell_type": "markdown",
   "id": "e744665e-7420-433f-8463-a674b66492d5",
   "metadata": {},
   "source": [
    "# Survey Distribution & Collection Tool"
   ]
  },
  {
   "cell_type": "code",
   "execution_count": 18,
   "id": "d92d726c-e144-490b-aa95-27f90c556582",
   "metadata": {},
   "outputs": [],
   "source": [
    "import os\n",
    "import boto3\n",
    "import xml.etree.ElementTree as ET\n",
    "from botocore.config import Config\n",
    "\n",
    "os.environ['AWS_ACCESS_KEY_ID']     = \n",
    "os.environ['AWS_SECRET_ACCESS_KEY'] = \n",
    "os.environ['AWS_REGION']            = \n",
    "\n",
    "config = Config(region_name='us-east-1', signature_version='v4')\n",
    "mturk = boto3.client(\n",
    "    'mturk',\n",
    "    config=config,\n",
    "    aws_access_key_id=os.environ['AWS_ACCESS_KEY_ID'],\n",
    "    aws_secret_access_key=os.environ['AWS_SECRET_ACCESS_KEY'],\n",
    "    endpoint_url='https://mturk-requester-sandbox.us-east-1.amazonaws.com'\n",
    ")"
   ]
  },
  {
   "cell_type": "code",
   "execution_count": 20,
   "id": "b49b921e-a6cd-4b29-9416-76293a13ca0f",
   "metadata": {},
   "outputs": [
    {
     "name": "stdout",
     "output_type": "stream",
     "text": [
      "Created HIT: 34XASH8KMGJGNH2G1AZWS8W5TGIMP1\n"
     ]
    }
   ],
   "source": [
    "def create_survey_hit(survey_link: str,\n",
    "                      reward: str = \"0.01\",\n",
    "                      max_assignments: int = 1) -> str:\n",
    "    xml_question = f\"\"\"<?xml version=\"1.0\" encoding=\"UTF-8\"?>\n",
    "<ExternalQuestion xmlns=\"http://mechanicalturk.amazonaws.com/AWSMechanicalTurkDataSchemas/2006-07-14/ExternalQuestion.xsd\">\n",
    "  <ExternalURL>{survey_link}</ExternalURL>\n",
    "  <FrameHeight>600</FrameHeight>\n",
    "</ExternalQuestion>\"\"\"\n",
    "    resp = mturk.create_hit(\n",
    "        Title=\"Sandbox Survey Test\",\n",
    "        Description=\"请在此 HIT 中打开问卷并填写\",\n",
    "        Reward=reward,\n",
    "        MaxAssignments=max_assignments,\n",
    "        LifetimeInSeconds=3600,\n",
    "        AssignmentDurationInSeconds=1800,\n",
    "        Question=xml_question\n",
    "    )\n",
    "    hit_id = resp['HIT']['HITId']\n",
    "    print(f\"Created HIT: {hit_id}\")\n",
    "    return hit_id\n",
    "\n",
    "survey_link = \"https://qualtricsxmnznfsjncm.qualtrics.com/jfe/form/SV_00tpW4sa8vcRYma\"\n",
    "hit_id = create_survey_hit(survey_link)"
   ]
  },
  {
   "cell_type": "code",
   "execution_count": 22,
   "id": "5da1fedf-6cae-4a24-8c23-eb58408690c1",
   "metadata": {},
   "outputs": [
    {
     "name": "stdout",
     "output_type": "stream",
     "text": [
      "\n",
      "👉 请在 https://workersandbox.mturk.com/ 用 Sandbox Worker 账号领取并提交该 HIT 后，按回车继续...\n"
     ]
    },
    {
     "name": "stdin",
     "output_type": "stream",
     "text": [
      " \n"
     ]
    },
    {
     "data": {
      "text/plain": [
       "''"
      ]
     },
     "execution_count": 22,
     "metadata": {},
     "output_type": "execute_result"
    }
   ],
   "source": [
    "print(\"\\n👉 请在 https://workersandbox.mturk.com/ 用 Sandbox Worker 账号领取并提交该 HIT 后，按回车继续...\")\n",
    "input()"
   ]
  },
  {
   "cell_type": "code",
   "execution_count": 5,
   "id": "8fa0e924-6960-4965-a2f4-450126f33678",
   "metadata": {},
   "outputs": [
    {
     "name": "stdout",
     "output_type": "stream",
     "text": [
      "⚠️ 尚未收到任何提交。\n"
     ]
    }
   ],
   "source": [
    "def list_assignments(hit_id: str):\n",
    "    resp = mturk.list_assignments_for_hit(\n",
    "        HITId=hit_id,\n",
    "        AssignmentStatuses=['Submitted', 'Approved', 'Rejected'],\n",
    "        MaxResults=100\n",
    "    )\n",
    "    return resp['Assignments']\n",
    "\n",
    "def parse_external_answer(answer_xml: str) -> dict:\n",
    "    root = ET.fromstring(answer_xml)\n",
    "    result = {}\n",
    "    for ans in root.findall('.//AnswerField'):\n",
    "        qid = ans.findtext('QuestionIdentifier')\n",
    "        text = ans.findtext('FreeText')\n",
    "        result[qid] = text\n",
    "    return result\n",
    "\n",
    "assignments = list_assignments(hit_id)\n",
    "if not assignments:\n",
    "    print(\"⚠️ 尚未收到任何提交。\")\n",
    "else:\n",
    "    for a in assignments:\n",
    "        print(\"――― Assignment ID:\", a['AssignmentId'])\n",
    "        print(\"    Worker ID:    \", a['WorkerId'])\n",
    "        print(\"    Answer：\", parse_external_answer(a['Answer']))"
   ]
  },
  {
   "cell_type": "code",
   "execution_count": null,
   "id": "df6a5052-1ebb-4024-b7d5-cb9340c48fcc",
   "metadata": {},
   "outputs": [],
   "source": []
  },
  {
   "cell_type": "code",
   "execution_count": 7,
   "id": "7cbd1c01-ecc2-4dc4-b845-847c610bc7a3",
   "metadata": {},
   "outputs": [],
   "source": [
    "# attmept achiving this with agents\n",
    "\n",
    "# publish_tool = PublishSurveyTool()\n",
    "# fetch_tool   = FetchSurveyTool()\n",
    "\n",
    "# deploy_agent  = Agent(config=deploy_cfg,  tools=[publish_tool])\n",
    "# collect_agent = Agent(config=collect_cfg, tools=[fetch_tool])\n",
    "\n",
    "# post_task = Task(\n",
    "#     config=post_cfg,\n",
    "#     agent=deploy_agent,\n",
    "#     run=publish_tool.run\n",
    "# )\n",
    "# get_task = Task(\n",
    "#     config=get_cfg,\n",
    "#     agent=collect_agent,\n",
    "#     run=fetch_tool.run\n",
    "# )\n",
    "\n",
    "# if __name__ == \"__main__\":\n",
    "#     crew = Crew(\n",
    "#         agents=[deploy_agent, collect_agent],\n",
    "#         tasks =[post_task, get_task],\n",
    "#         verbose=True\n",
    "#     )\n",
    "\n",
    "#     survey_definition = {\n",
    "#         \"title\": \"Customer Satisfaction Survey\",\n",
    "#         \"fields\": [\n",
    "#             {\n",
    "#                 \"title\": \"How satisfied are you with our service?\",\n",
    "#                 \"type\": \"multiple_choice\",\n",
    "#                 \"properties\": {\n",
    "#                     \"choices\": [\n",
    "#                         {\"label\": \"Very Satisfied\"},\n",
    "#                         {\"label\": \"Satisfied\"},\n",
    "#                         {\"label\": \"Neutral\"},\n",
    "#                         {\"label\": \"Dissatisfied\"}\n",
    "#                     ]\n",
    "#                 }\n",
    "#             }\n",
    "#         ]\n",
    "#     }\n",
    "\n",
    "#     direct_pub = publish_tool.run(survey_definition)\n",
    "#     print(\"Direct publish output:\", direct_pub)\n",
    "#     fid = direct_pub[\"id\"]\n",
    "#     direct_fetch = fetch_tool.run(fid)\n",
    "#     print(\"Direct fetch output:\", direct_fetch)\n",
    "\n",
    "#     # print(\"\\n=== Using Crew.kickoff ===\")\n",
    "#     # deploy_out  = crew.kickoff(inputs={\"survey_definition\": survey_definition})\n",
    "#     # print(\"Crew deployed:\", deploy_out)\n",
    "#     # fid = deploy_out[\"id\"]\n",
    "#     # collect_out = crew.kickoff(inputs={\"survey_id\": fid})\n",
    "#     # print(\"Crew collected:\", collect_out)\n"
   ]
  },
  {
   "cell_type": "code",
   "execution_count": null,
   "id": "a63f7272-289d-4ad3-9446-c5cb2f38516e",
   "metadata": {},
   "outputs": [],
   "source": []
  }
 ],
 "metadata": {
  "kernelspec": {
   "display_name": "Python [conda env:base] *",
   "language": "python",
   "name": "conda-base-py"
  },
  "language_info": {
   "codemirror_mode": {
    "name": "ipython",
    "version": 3
   },
   "file_extension": ".py",
   "mimetype": "text/x-python",
   "name": "python",
   "nbconvert_exporter": "python",
   "pygments_lexer": "ipython3",
   "version": "3.12.7"
  }
 },
 "nbformat": 4,
 "nbformat_minor": 5
}
